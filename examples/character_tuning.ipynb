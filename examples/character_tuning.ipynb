{
 "cells": [
  {
   "cell_type": "code",
   "execution_count": 1,
   "metadata": {},
   "outputs": [
    {
     "data": {
      "application/vnd.jupyter.widget-view+json": {
       "model_id": "467b80fc049746fc95ed3bbd77ae3a4e",
       "version_major": 2,
       "version_minor": 0
      },
      "text/plain": [
       "Text(value='http://localhost:11434', description='Base URL:')"
      ]
     },
     "metadata": {},
     "output_type": "display_data"
    },
    {
     "data": {
      "application/vnd.jupyter.widget-view+json": {
       "model_id": "ea3b586e244641d7895f10c6beb2c70d",
       "version_major": 2,
       "version_minor": 0
      },
      "text/plain": [
       "Text(value='llama3.1:8b-instruct-q5_K_S', description='Model Name:')"
      ]
     },
     "metadata": {},
     "output_type": "display_data"
    },
    {
     "data": {
      "application/vnd.jupyter.widget-view+json": {
       "model_id": "ea1d7b581dce453d87cff7ccc52a45ee",
       "version_major": 2,
       "version_minor": 0
      },
      "text/plain": [
       "FloatSlider(value=0.7, description='Temperature:', max=1.0, step=0.05)"
      ]
     },
     "metadata": {},
     "output_type": "display_data"
    },
    {
     "data": {
      "application/vnd.jupyter.widget-view+json": {
       "model_id": "cb9b160219c749fe96774f7dd263e97f",
       "version_major": 2,
       "version_minor": 0
      },
      "text/plain": [
       "FloatSlider(value=0.5, description='Top P:', max=1.0, step=0.05)"
      ]
     },
     "metadata": {},
     "output_type": "display_data"
    },
    {
     "data": {
      "application/vnd.jupyter.widget-view+json": {
       "model_id": "58ec13997cc349039f0c36b5b98dd2c5",
       "version_major": 2,
       "version_minor": 0
      },
      "text/plain": [
       "IntSlider(value=1000, description='Max Tokens:', max=2000, min=100, step=100)"
      ]
     },
     "metadata": {},
     "output_type": "display_data"
    },
    {
     "data": {
      "application/vnd.jupyter.widget-view+json": {
       "model_id": "78200b0458a241b4a5a23cddb13c8038",
       "version_major": 2,
       "version_minor": 0
      },
      "text/plain": [
       "Button(description='Generate Character', style=ButtonStyle())"
      ]
     },
     "metadata": {},
     "output_type": "display_data"
    },
    {
     "data": {
      "application/vnd.jupyter.widget-view+json": {
       "model_id": "b398c890f9b941cb88e60cb5067c524d",
       "version_major": 2,
       "version_minor": 0
      },
      "text/plain": [
       "Output()"
      ]
     },
     "metadata": {},
     "output_type": "display_data"
    }
   ],
   "source": [
    "import ipywidgets as widgets\n",
    "from IPython.display import display\n",
    "from storyjupyter.generation import LLMCharacterGenerator\n",
    "from storyjupyter.domain.models import Character\n",
    "from uuid import uuid4\n",
    "\n",
    "# Parameter Widgets\n",
    "temperature_widget = widgets.FloatSlider(\n",
    "    value=0.7,\n",
    "    min=0.0,\n",
    "    max=1.0,\n",
    "    step=0.05,\n",
    "    description='Temperature:'\n",
    ")\n",
    "\n",
    "top_p_widget = widgets.FloatSlider(\n",
    "    value=0.5,\n",
    "    min=0.0,\n",
    "    max=1.0,\n",
    "    step=0.05,\n",
    "    description='Top P:'\n",
    ")\n",
    "\n",
    "max_tokens_widget = widgets.IntSlider(\n",
    "    value=1000,\n",
    "    min=100,\n",
    "    max=2000,\n",
    "    step=100,\n",
    "    description='Max Tokens:'\n",
    ")\n",
    "\n",
    "model_widget = widgets.Text(\n",
    "    value='llama3.1:8b-instruct-q5_K_S',\n",
    "    description='Model Name:',\n",
    "    disabled=False\n",
    ")\n",
    "\n",
    "base_url_widget = widgets.Text(\n",
    "    value='http://localhost:11434',\n",
    "    description='Base URL:',\n",
    "    disabled=False\n",
    ")\n",
    "\n",
    "generate_button = widgets.Button(description=\"Generate Character\")\n",
    "\n",
    "# Character Generation Function\n",
    "def generate_character(temperature: float, top_p: float, max_tokens: int, model: str, base_url: str) -> Character:\n",
    "    \"\"\"Generates a character with the given hyperparameters.\"\"\"\n",
    "    generator = LLMCharacterGenerator(\n",
    "        model=model,\n",
    "        base_url=base_url,\n",
    "        temperature=temperature,\n",
    "        top_p=top_p,\n",
    "        max_tokens=max_tokens\n",
    "    )\n",
    "    character = generator.generate(character_id=uuid4())\n",
    "    return character\n",
    "\n",
    "# Display Function\n",
    "output = widgets.Output()\n",
    "\n",
    "def display_character(button):\n",
    "    \"\"\"Displays the generated character and hyperparameters.\"\"\"\n",
    "    with output:\n",
    "        output.clear_output(wait=True)\n",
    "        temperature = temperature_widget.value\n",
    "        top_p = top_p_widget.value\n",
    "        max_tokens = max_tokens_widget.value\n",
    "        model = model_widget.value\n",
    "        base_url = base_url_widget.value\n",
    "\n",
    "        character = generate_character(temperature, top_p, max_tokens, model, base_url)\n",
    "        print(f\"Character Name: {character.name}\")\n",
    "        print(f\"Description: {character.attributes.get('description')}\")\n",
    "        print(f\"Age: {character.attributes.get('age')}\")\n",
    "        print(f\"Occupation: {character.attributes.get('occupation')}\")\n",
    "        print(f\"Pronouns: {character.pronouns}\")\n",
    "        print(f\"Temperature: {temperature}\")\n",
    "        print(f\"Top P: {top_p}\")\n",
    "        print(f\"Max Tokens: {max_tokens}\")\n",
    "        print(f\"Model: {model}\")\n",
    "        print(f\"Base URL: {base_url}\")\n",
    "\n",
    "# Link Button to Display Function\n",
    "generate_button.on_click(display_character)\n",
    "\n",
    "# Display Widgets and Output\n",
    "display(base_url_widget, model_widget, temperature_widget, top_p_widget, max_tokens_widget, generate_button, output)"
   ]
  },
  {
   "cell_type": "code",
   "execution_count": null,
   "metadata": {},
   "outputs": [],
   "source": []
  }
 ],
 "metadata": {
  "kernelspec": {
   "display_name": "storyjupyter",
   "language": "python",
   "name": "python3"
  },
  "language_info": {
   "codemirror_mode": {
    "name": "ipython",
    "version": 3
   },
   "file_extension": ".py",
   "mimetype": "text/x-python",
   "name": "python",
   "nbconvert_exporter": "python",
   "pygments_lexer": "ipython3",
   "version": "3.12.9"
  }
 },
 "nbformat": 4,
 "nbformat_minor": 2
}
