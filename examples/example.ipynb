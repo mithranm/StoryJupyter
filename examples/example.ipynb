{
 "cells": [
  {
   "cell_type": "markdown",
   "metadata": {},
   "source": [
    "# Tech Thriller: The Digital Breach\n",
    "\n",
    "This notebook demonstrates proper pronoun usage with multiple characters."
   ]
  },
  {
   "cell_type": "code",
   "execution_count": null,
   "metadata": {},
   "outputs": [],
   "source": [
    "from storyjupyter import StoryContext, CharacterManager\n",
    "from datetime import datetime as dt\n",
    "from datetime import timezone\n",
    "from zoneinfo import ZoneInfo\n",
    "\n",
    "# Initialize story context\n",
    "with StoryContext(db_path=\"digital_breach.db\", seed=42, chapter=1) as story:\n",
    "    character_manager = CharacterManager(story)\n",
    "    story.set_time(dt(2045, 1, 1, tzinfo=ZoneInfo('America/New_York')))\n",
    "    story.print(f\"The time is {story.get_time()}\\n\")\n",
    "\n",
    "    # Create characters\n",
    "    protagonist = character_manager.create(\n",
    "        name=\"Sarah Chen\",\n",
    "        description=\"A brilliant cybersecurity expert\",\n",
    "        pronoun_set=\"she\",\n",
    "        role=\"Head of Security\"\n",
    "    )\n",
    "\n",
    "    mentor = character_manager.create(\n",
    "        name=\"Alex Morgan\",\n",
    "        description=\"A veteran security researcher\",\n",
    "        pronoun_set=\"they\",\n",
    "        role=\"Security Consultant\"\n",
    "    )\n",
    "\n",
    "    rival = character_manager.create(\n",
    "        name=\"Marcus Zhang\",\n",
    "        description=\"A charismatic tech CEO\",\n",
    "        pronoun_set=\"he\",\n",
    "        role=\"CEO\"\n",
    "    )\n",
    "\n",
    "    # Set up the scene\n",
    "    story.set_time(dt(2045, 3, 15, 7, 30, tzinfo=timezone.utc))\n",
    "    tech_company = story.brands.get_brand(\"Google\")\n",
    "    story.set_location(f\"{tech_company.story_name} Security Center\")\n",
    "\n",
    "    # Opening scene\n",
    "    story.print(f\"{protagonist.name} swiped her badge at the security gate.\\n\")\n",
    "    story.print(f\"She headed to her office, where her latest security report awaited review.\\n\")\n",
    "    story.print(f\"The analysis was hers, but the implications would affect everyone.\\n\")\n",
    "\n",
    "    # Mentor interaction\n",
    "    story.advance_time(\"15min\")\n",
    "    story.print(f\"{mentor.name} was already at their desk when {protagonist.name} arrived.\\n\")\n",
    "    story.print(f\"The investigation would be theirs to lead, but they wanted her expertise.\\n\")\n",
    "    story.print(f\"After all, the security system was hers to maintain.\\n\")\n",
    "\n",
    "    # Rival CEO scene\n",
    "    story.advance_time(\"30min\")\n",
    "    story.print(f\"{rival.name} arrived unannounced at {story.get_time()}, his presence commanding attention.\\n\")\n",
    "    story.print(f\"The security breach affected his company too, though the evidence was his to interpret as he saw fit.\\n\")\n",
    "    story.print(f\"He claimed the solution was his alone to implement.\\n\")\n",
    "\n",
    "    # Generate manuscript\n",
    "    markdown_output = story.generate_manuscript()\n",
    "    print(markdown_output)"
   ]
  },
  {
   "cell_type": "markdown",
   "metadata": {},
   "source": [
    "## Pronoun Usage Examples\n",
    "\n",
    "- Possessive adjective (before nouns):\n",
    "  - \"her badge\" ({protagonist.pronouns.possessive} badge)\n",
    "  - \"their desk\" ({mentor.pronouns.possessive} desk)\n",
    "  - \"his company\" ({rival.pronouns.possessive} company)\n",
    "\n",
    "- Possessive pronoun (standalone):\n",
    "  - \"it was hers\" (it was {protagonist.pronouns.possessive_pronoun})\n",
    "  - \"it was theirs\" (it was {mentor.pronouns.possessive_pronoun})\n",
    "  - \"it was his\" (it was {rival.pronouns.possessive_pronoun})"
   ]
  }
 ],
 "metadata": {
  "kernelspec": {
   "display_name": "story_jupyter",
   "language": "python",
   "name": "python3"
  },
  "language_info": {
   "codemirror_mode": {
    "name": "ipython",
    "version": 3
   },
   "file_extension": ".py",
   "mimetype": "text/x-python",
   "name": "python",
   "nbconvert_exporter": "python",
   "pygments_lexer": "ipython3",
   "version": "3.12.9"
  }
 },
 "nbformat": 4,
 "nbformat_minor": 2
}
