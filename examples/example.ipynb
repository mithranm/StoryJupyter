{
 "cells": [
  {
   "cell_type": "code",
   "execution_count": null,
   "metadata": {},
   "outputs": [
    {
     "name": "stdout",
     "output_type": "stream",
     "text": [
      "Character(id=UUID('5d46016a-edef-4e4e-838d-561fb490a692'), first_name='Vincent', middle_names=['Jeremiah', 'Adam'], last_name='Bartlett', pronouns=Pronouns(subject='he', object='him', possessive='his', possessive_pronoun='his', reflexive='himself'), chapter_introduced=None, attributes={'description': 'Public base short. Admit would administration possible machine. Chance consumer boy address main who ask. Treatment attention push middle animal station as.', 'age': 64, 'occupation': 'Immigration officer', 'chapter_introduced': 1}, relationships={})\n",
      "# Chapter 1\n",
      "\n",
      "## New York City\n",
      "Vincent Jeremiah Adam Bartlett checks his watch, the time is 2025-02-12 02:01:11.789772\n",
      "\n"
     ]
    }
   ],
   "source": [
    "from storyjupyter import StoryBuilder\n",
    "from datetime import datetime\n",
    "story = (StoryBuilder(\"My Novel\", \"John Doe\")\n",
    "    .with_mongo_connection(db_name=\"custom_db\")\n",
    "    .build())\n",
    "\n",
    "story.set_time(time=datetime.now())\n",
    "story.set_location(\"New York City\")\n",
    "protagonist = story.create_character(generator_type=\"llm\")\n",
    "story.add_event(f\"{protagonist.name} checks {protagonist.pronouns.possessive} watch, the time is {story.current_time}\", character_ids=[protagonist.id])\n",
    "print(protagonist)\n",
    "print(story.generate_manuscript())"
   ]
  },
  {
   "cell_type": "code",
   "execution_count": null,
   "metadata": {},
   "outputs": [],
   "source": []
  },
  {
   "cell_type": "code",
   "execution_count": null,
   "metadata": {},
   "outputs": [],
   "source": []
  }
 ],
 "metadata": {
  "kernelspec": {
   "display_name": "story_jupyter",
   "language": "python",
   "name": "python3"
  },
  "language_info": {
   "codemirror_mode": {
    "name": "ipython",
    "version": 3
   },
   "file_extension": ".py",
   "mimetype": "text/x-python",
   "name": "python",
   "nbconvert_exporter": "python",
   "pygments_lexer": "ipython3",
   "version": "3.12.9"
  }
 },
 "nbformat": 4,
 "nbformat_minor": 2
}
