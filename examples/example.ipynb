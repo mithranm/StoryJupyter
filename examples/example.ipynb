{
 "cells": [
  {
   "cell_type": "code",
   "execution_count": 1,
   "metadata": {},
   "outputs": [
    {
     "name": "stdout",
     "output_type": "stream",
     "text": [
      "# Chapter 1\n",
      "\n",
      "The clock tower strikes noon.\n",
      "\n",
      "A bustling crowd fills the market square. It is 12:15.\n",
      "\n",
      "A merchant shouts out his wares. Rolando\n",
      "\n",
      "\n",
      "Character ID: protagonist\n"
     ]
    }
   ],
   "source": [
    "from storyjupyter import StoryManager, FakerCharacterGenerator\n",
    "from datetime import datetime\n",
    "# Initialize StoryManager\n",
    "story = StoryManager(\n",
    "    db_name=\"storydb\",\n",
    "    chapter=1\n",
    ")\n",
    "\n",
    "story.character_generator = FakerCharacterGenerator(locale=\"it_IT\")\n",
    "\n",
    "# Set the initial time\n",
    "initial_time = datetime(2025, 1, 1, 12, 0, 0)\n",
    "story.set_time(initial_time)\n",
    "\n",
    "# Set the initial location\n",
    "story.set_location(\"Town Square\")\n",
    "\n",
    "# Add some events to the timeline\n",
    "story.print(\"The clock tower strikes noon.\")\n",
    "\n",
    "story.advance_time(duration=\"15 minutes\")\n",
    "story.set_location(\"Market\")\n",
    "story.print(f\"A bustling crowd fills the market square. It is {story.get_time().strftime('%H:%M')}.\")\n",
    "\n",
    "story.advance_time(duration=\"30 minutes\")\n",
    "protagonist = story.create_character(character_id=\"protagonist\")\n",
    "story.print(f\"A merchant shouts out his wares. {protagonist.name.first}\")\n",
    "\n",
    "# Generate the manuscript\n",
    "manuscript = story.generate_manuscript()\n",
    "print(manuscript)\n",
    "print(f\"Character ID: {protagonist.character_id}\")\n",
    "\n",
    "del story"
   ]
  },
  {
   "cell_type": "code",
   "execution_count": null,
   "metadata": {},
   "outputs": [],
   "source": []
  }
 ],
 "metadata": {
  "kernelspec": {
   "display_name": "story_jupyter",
   "language": "python",
   "name": "python3"
  },
  "language_info": {
   "codemirror_mode": {
    "name": "ipython",
    "version": 3
   },
   "file_extension": ".py",
   "mimetype": "text/x-python",
   "name": "python",
   "nbconvert_exporter": "python",
   "pygments_lexer": "ipython3",
   "version": "3.12.9"
  }
 },
 "nbformat": 4,
 "nbformat_minor": 2
}
