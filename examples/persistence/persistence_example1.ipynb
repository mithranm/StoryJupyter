{
 "cells": [
  {
   "cell_type": "code",
   "execution_count": 4,
   "metadata": {},
   "outputs": [
    {
     "data": {
      "text/plain": [
       "StoryElement(id=UUID('6e3a439e-46d7-423f-8ff1-2fca0e1f24ff'), time=datetime.datetime(1970, 1, 1, 13, 30, 30, tzinfo=datetime.timezone(datetime.timedelta(days=-1, seconds=68400), 'EST')), location='New York City', content='It was a dark and stormy night. Mark Alexander Donald Walker appears to be depressed in this melancholy weather.', chapter=1, characters=frozenset({'protagonist'}))"
      ]
     },
     "execution_count": 4,
     "metadata": {},
     "output_type": "execute_result"
    }
   ],
   "source": [
    "from storyjupyter import StoryBuilder\n",
    "from datetime import datetime, timezone, timedelta\n",
    "\n",
    "# Define the New York timezone\n",
    "new_york_timezone = timezone(timedelta(hours=-5), name=\"EST\")\n",
    "\n",
    "# Create a datetime object for Jan 1, 1970, 1:30:30 PM in New York time\n",
    "new_york_time = datetime(1970, 1, 1, 13, 30, 30, tzinfo=new_york_timezone)\n",
    "\n",
    "story = StoryBuilder(title=\"My Novel\", author=\"John Doe\") \\\n",
    "    .with_chapter(chapter=1) \\\n",
    "    .build()\n",
    "\n",
    "story.set_time(time=new_york_time)\n",
    "story.set_location(\"New York City\")\n",
    "protagonist = story.create_character(character_id=\"protagonist\", generator_type=\"faker\")\n",
    "story.enter_character(protagonist)\n",
    "story.add_element(content=f\"It was a dark and stormy night. {protagonist.name} appears to be depressed in this melancholy weather.\")"
   ]
  },
  {
   "cell_type": "code",
   "execution_count": 5,
   "metadata": {},
   "outputs": [
    {
     "name": "stdout",
     "output_type": "stream",
     "text": [
      "# Chapter 1\n",
      "\n",
      "## New York City\n",
      "[1970-01-01 13:30:30-05:00] It was a dark and stormy night. Mark Alexander Donald Walker appears to be depressed in this melancholy weather.\n",
      "\n"
     ]
    }
   ],
   "source": [
    "manuscript = story.generate_manuscript()\n",
    "print(manuscript)\n",
    "# Optionally write to file\n",
    "# with open(\"example1.md\", \"w\", encoding=\"utf-8\") as file:\n",
    "#     file.write(manuscript)"
   ]
  },
  {
   "cell_type": "markdown",
   "metadata": {},
   "source": [
    "The above approach works for a single-notebook story. But the whole point of StoryJupyter is to assist in writing across multiple notebooks. We leverage MongoDB for persistence."
   ]
  },
  {
   "cell_type": "code",
   "execution_count": 6,
   "metadata": {},
   "outputs": [
    {
     "name": "stdout",
     "output_type": "stream",
     "text": [
      "# Chapter 1\n",
      "\n",
      "## New York City\n",
      "[1970-01-01 18:30:30+00:00] It was a dark and stormy night. Margaret Johnson appears to be depressed in this melancholy weather.\n",
      "\n"
     ]
    }
   ],
   "source": [
    "from storyjupyter import StoryBuilder\n",
    "from datetime import datetime, timezone, timedelta\n",
    "\n",
    "# Define the New York timezone\n",
    "new_york_timezone = timezone(timedelta(hours=-5), name=\"EST\")\n",
    "\n",
    "# Create a datetime object for Jan 1, 1970, 1:30:30 PM in New York time\n",
    "start_time = datetime(1970, 1, 1, 13, 30, 30, tzinfo=new_york_timezone)\n",
    "\n",
    "story = StoryBuilder(title=\"My Novel\", author=\"John Doe\") \\\n",
    "    .with_chapter(chapter=1) \\\n",
    "    .with_mongo_connection(uri=\"mongodb://localhost:27017\", db_name=\"custom_db\") \\\n",
    "    .build()\n",
    "\n",
    "story.set_time(time=start_time)\n",
    "story.set_location(\"New York City\")\n",
    "protagonist = story.create_character(character_id=\"protagonist\", generator_type=\"faker\")\n",
    "story.enter_character(protagonist)\n",
    "story.add_element(content=f\"It was a dark and stormy night. {protagonist.name} appears to be depressed in this melancholy weather.\")\n",
    "manuscript = story.generate_manuscript()\n",
    "print(manuscript)"
   ]
  },
  {
   "cell_type": "markdown",
   "metadata": {},
   "source": [
    "Now we have upserted story events to our MongoDB instance, we can move on to the next notebook."
   ]
  },
  {
   "cell_type": "code",
   "execution_count": null,
   "metadata": {},
   "outputs": [],
   "source": []
  }
 ],
 "metadata": {
  "kernelspec": {
   "display_name": "storyjupyter",
   "language": "python",
   "name": "python3"
  },
  "language_info": {
   "codemirror_mode": {
    "name": "ipython",
    "version": 3
   },
   "file_extension": ".py",
   "mimetype": "text/x-python",
   "name": "python",
   "nbconvert_exporter": "python",
   "pygments_lexer": "ipython3",
   "version": "3.12.9"
  }
 },
 "nbformat": 4,
 "nbformat_minor": 2
}
