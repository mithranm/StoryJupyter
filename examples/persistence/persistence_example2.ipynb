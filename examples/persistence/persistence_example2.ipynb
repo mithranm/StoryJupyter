{
 "cells": [
  {
   "cell_type": "code",
   "execution_count": 2,
   "metadata": {},
   "outputs": [
    {
     "name": "stdout",
     "output_type": "stream",
     "text": [
      "Character(id='protagonist', first_name='Margaret', middle_names=[], last_name='Johnson', pronouns=Pronouns(subject='she', object='her', possessive='her', possessive_pronoun='hers', reflexive='herself'), chapter_introduced=1, attributes={'description': 'Development say quality throughout beautiful. All behavior discussion own night respond.', 'age': 39, 'occupation': 'Sports administrator', 'chapter_introduced': 1}, relationships={})\n",
      "# Chapter 2\n",
      "\n",
      "## San Francisco\n",
      "[1970-01-02 22:30:30+00:00] Margaret Johnson checks her watch, the time is 2:30 PM\n",
      "\n"
     ]
    }
   ],
   "source": [
    "from storyjupyter import StoryBuilder\n",
    "from datetime import datetime, timezone, timedelta\n",
    "story = StoryBuilder(\"My Novel\", \"John Doe\") \\\n",
    "    .with_chapter(chapter=2) \\\n",
    "    .with_mongo_connection(db_name=\"custom_db\") \\\n",
    "    .build()\n",
    "    \n",
    "# Define the New York timezone\n",
    "pacific_time = timezone(timedelta(hours=-8), name=\"PST\")\n",
    "\n",
    "# Create a datetime object for Jan 2, 1970, 2:30:30 PM in New York time\n",
    "start_time = datetime(1970, 1, 2, 14, 30, 30, tzinfo=pacific_time)\n",
    "\n",
    "story.set_time(time=start_time)\n",
    "story.set_location(\"San Francisco\")\n",
    "\n",
    "protagonist = story.get_character(\"protagonist\")\n",
    "print(protagonist)\n",
    "\n",
    "story.enter_character(protagonist)\n",
    "story.add_element(f\"{protagonist.name} checks {protagonist.pronouns.possessive} watch, the time is {story.get_formatted_time('%I:%M %p').lstrip('0')}\")\n",
    "\n",
    "print(story.generate_manuscript())"
   ]
  },
  {
   "cell_type": "markdown",
   "metadata": {},
   "source": [
    "The above cell demonstrates how to retrieve the \"protagonist\" from the database, and initializes a new setting in San Francisco."
   ]
  }
 ],
 "metadata": {
  "kernelspec": {
   "display_name": "storyjupyter",
   "language": "python",
   "name": "python3"
  },
  "language_info": {
   "codemirror_mode": {
    "name": "ipython",
    "version": 3
   },
   "file_extension": ".py",
   "mimetype": "text/x-python",
   "name": "python",
   "nbconvert_exporter": "python",
   "pygments_lexer": "ipython3",
   "version": "3.12.9"
  }
 },
 "nbformat": 4,
 "nbformat_minor": 2
}
