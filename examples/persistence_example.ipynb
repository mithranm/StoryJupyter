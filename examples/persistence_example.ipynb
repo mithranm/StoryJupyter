{
 "cells": [
  {
   "cell_type": "code",
   "execution_count": 3,
   "metadata": {},
   "outputs": [
    {
     "name": "stdout",
     "output_type": "stream",
     "text": [
      "# Chapter 1\n",
      "\n",
      "The clock tower strikes noon.\n",
      "\n",
      "A bustling crowd fills the market square. It is 12:15.\n",
      "\n",
      "A merchant shouts out his wares. Rolando\n",
      "\n",
      "# Chapter 2\n",
      "\n",
      "Rolando Bartolomeo Toninelli was introduced in the previous chapter. This is what we know about them so far: {'character_id': 'protagonist', 'name_components': 'Rolando Bartolomeo Toninelli', 'pronouns': 'they/them/their', 'attributes': {}, 'relationships': {}}\n",
      "\n",
      "\n"
     ]
    }
   ],
   "source": [
    "from storyjupyter import StoryManager\n",
    "from datetime import datetime\n",
    "\n",
    "# Initialize StoryContext\n",
    "story = StoryManager(\n",
    "    db_name=\"storydb\",  # Replace with your desired database path\n",
    "    chapter=2\n",
    ")\n",
    "\n",
    "story.set_time(datetime(2021, 1, 1))  # Set the current time of the story\n",
    "\n",
    "character_id = \"protagonist\"  # This UUID is hardcoded, but you can replace it with a valid character_id from your database\n",
    "character = story.get_character(character_id)\n",
    "\n",
    "story.print(f\"{character.name} was introduced in the previous chapter. This is what we know about them so far: {character}\")\n",
    "\n",
    "# Load timeline and print\n",
    "manuscript = story.generate_manuscript()\n",
    "print(manuscript)"
   ]
  },
  {
   "cell_type": "code",
   "execution_count": null,
   "metadata": {},
   "outputs": [],
   "source": []
  }
 ],
 "metadata": {
  "kernelspec": {
   "display_name": "story_jupyter",
   "language": "python",
   "name": "python3"
  },
  "language_info": {
   "codemirror_mode": {
    "name": "ipython",
    "version": 3
   },
   "file_extension": ".py",
   "mimetype": "text/x-python",
   "name": "python",
   "nbconvert_exporter": "python",
   "pygments_lexer": "ipython3",
   "version": "3.12.9"
  }
 },
 "nbformat": 4,
 "nbformat_minor": 2
}
